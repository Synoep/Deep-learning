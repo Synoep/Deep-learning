{
  "cells": [
    {
      "cell_type": "markdown",
      "metadata": {
        "id": "zs6k1Iv_of_O"
      },
      "source": [
        "## Name: Shivam Tiwari\n",
        "### Roll No: b3_51\n",
        "\n"
      ]
    },
    {
      "cell_type": "markdown",
      "metadata": {
        "id": "QuYzqdMeo5UE"
      },
      "source": [
        "### Implement the perceptron learning algorithm to classify 3-dimensional points into two classes based on a given dataset. Update weights iteratively until convergence.\n",
        "\n",
        "## Implement perceptron learning algorithm for classification of following points\n",
        "\n",
        "### {p0(-1, -1, -1), p1(-1, 1, 1), p2(-1, 1, -1), p3(-1, 1, 1), p4(1, -1, 1), p5(1, -1 ,1), p6(1, 1, -1), p7(1, 1, 1)}\n",
        "\n",
        "###C1 = {p7(1, 1, 1)}\n",
        "### C2 = {p0(-1, -1, -1), p1(-1, 1, 1), p2(-1, 1, -1), p3(-1, 1, 1), p4(1, -1, 1), p5(1, -1 ,1), p6(1, 1, -1)}"
      ]
    },
    {
      "cell_type": "code",
      "execution_count": null,
      "metadata": {
        "id": "wnuxlxLGnsEE"
      },
      "outputs": [],
      "source": [
        "import numpy as np\n",
        "\n",
        "data_points = {\n",
        "    \"P0\": np.array([-1, -1, -1]),\n",
        "    \"P1\": np.array([-1, -1, 1]),\n",
        "    \"P2\": np.array([-1, 1, -1]),\n",
        "    \"P3\": np.array([-1, 1, 1]),\n",
        "    \"P4\": np.array([1, -1, -1]),\n",
        "    \"P5\": np.array([1, -1, 1]),\n",
        "    \"P6\": np.array([1, 1, -1]),\n",
        "    \"P7\": np.array([1, 1, 1])\n",
        "}"
      ]
    },
    {
      "cell_type": "code",
      "execution_count": null,
      "metadata": {
        "id": "9xXoikIEpEgX"
      },
      "outputs": [],
      "source": [
        "C1 = [\"P7\"]\n",
        "C2 = [\"P0\", \"P1\", \"P2\", \"P3\", \"P4\", \"P5\", \"P6\"]"
      ]
    },
    {
      "cell_type": "code",
      "execution_count": null,
      "metadata": {
        "colab": {
          "base_uri": "https://localhost:8080/"
        },
        "id": "OhTJAj9UpF8O",
        "outputId": "f1b61fdd-7ba9-41a5-8d11-af4c2f0e3656"
      },
      "outputs": [
        {
          "data": {
            "text/plain": [
              "array([0., 0., 0.])"
            ]
          },
          "execution_count": 3,
          "metadata": {},
          "output_type": "execute_result"
        }
      ],
      "source": [
        "weights = np.zeros(len(data_points['P0']))\n",
        "LR = 1\n",
        "bias = 0\n",
        "weights"
      ]
    },
    {
      "cell_type": "code",
      "execution_count": null,
      "metadata": {
        "id": "c7FF-2U0pHRa"
      },
      "outputs": [],
      "source": [
        "epochs = 100\n",
        "for i in range(epochs):\n",
        "    for point in C2:\n",
        "        x = data_points[point]\n",
        "\n",
        "        summation = np.dot(weights, x) + bias\n",
        "\n",
        "        if summation <= 0:\n",
        "            weights += LR * x\n",
        "            bias += LR"
      ]
    },
    {
      "cell_type": "code",
      "execution_count": null,
      "metadata": {
        "colab": {
          "base_uri": "https://localhost:8080/"
        },
        "id": "d3yMK4nJpJwW",
        "outputId": "eccb1fd8-1a42-485f-cb53-c6db2131abfd"
      },
      "outputs": [
        {
          "name": "stdout",
          "output_type": "stream",
          "text": [
            "[-1. -1. -1.]   3\n"
          ]
        }
      ],
      "source": [
        "print(weights, \" \", bias)"
      ]
    },
    {
      "cell_type": "code",
      "execution_count": null,
      "metadata": {
        "colab": {
          "base_uri": "https://localhost:8080/"
        },
        "id": "2JATop0OpLD1",
        "outputId": "7f5c48d5-70c1-4452-858b-fd2602a30ea2"
      },
      "outputs": [
        {
          "name": "stdout",
          "output_type": "stream",
          "text": [
            "New point belongs to class C1\n"
          ]
        }
      ],
      "source": [
        "new_point = np.array([1, 1, 1])\n",
        "summation = np.dot(weights, new_point) + bias\n",
        "if summation > 0:\n",
        "    print(\"New point belongs to class C2\")\n",
        "else:\n",
        "    print(\"New point belongs to class C1\")"
      ]
    },
    {
      "cell_type": "markdown",
      "metadata": {
        "id": "YSvru14gpjIg"
      },
      "source": [
        "### Develop a Python program to determine the number of linearly separable binary classification problems from a given dataset of 3-dimensional points. Validate using multiple class combinations.\n",
        "### Write a python program to find the number of linearly separable problems out of total binary classification problems on:\n",
        "### {p0(-1, -1, -1), p1(-1, 1, 1), p2(-1, 1, -1), p3(-1, 1, 1), p4(1, -1, 1), p5(1, -1 ,1), p6(1, 1, -1), p7(1, 1, 1)}"
      ]
    },
    {
      "cell_type": "code",
      "execution_count": null,
      "metadata": {
        "id": "wCgsXX5zpjev"
      },
      "outputs": [],
      "source": [
        " np.random.seed(42)\n",
        " X = np.random.randn(100, 3)\n",
        " y = np.random.choice([1, -1], size=100)"
      ]
    },
    {
      "cell_type": "code",
      "execution_count": null,
      "metadata": {
        "id": "i_l1RJ4xqGdN"
      },
      "outputs": [],
      "source": [
        "def perceptron(X, y, lr=0.1, epochs=100):\n",
        "    w = np.zeros(X.shape[1])\n",
        "    b = 0\n",
        "    track = []\n",
        "\n",
        "    for epoch in range(epochs):\n",
        "            for i in range(X.shape[0]):\n",
        "\n",
        "                if y[i] * (np.dot(X[i], w) + b) <= 0:\n",
        "                    w += lr * y[i] * X[i]\n",
        "                    b += lr * y[i]\n",
        "                track.append((w.copy(), b))\n",
        "    return w, b, track"
      ]
    },
    {
      "cell_type": "code",
      "execution_count": null,
      "metadata": {
        "id": "PgHH7p9Is6J8"
      },
      "outputs": [],
      "source": [
        "w, b, history = perceptron(X, y, lr=0.1, epochs=100)"
      ]
    },
    {
      "cell_type": "code",
      "execution_count": null,
      "metadata": {
        "id": "wfxI-VqQxy-u"
      },
      "outputs": [],
      "source": [
        "def check_seperable(X, y, lr=0.1, epochs=100):\n",
        "    w, b, track = perceptron(X, y, lr, epochs)\n",
        "\n",
        "    if track:\n",
        "        return True\n",
        "    else:\n",
        "        return False"
      ]
    },
    {
      "cell_type": "code",
      "execution_count": null,
      "metadata": {
        "colab": {
          "base_uri": "https://localhost:8080/"
        },
        "id": "TCKpeUusyt1Q",
        "outputId": "bf7d7d27-a785-4f82-ea8a-dd5d53716278"
      },
      "outputs": [
        {
          "name": "stdout",
          "output_type": "stream",
          "text": [
            "True\n",
            "True\n"
          ]
        }
      ],
      "source": [
        "X1 = np.random.randn(100, 3)\n",
        "y1 = np.random.choice([1, -1], size=100)\n",
        "\n",
        "X2 = np.random.randn(100, 3)\n",
        "y2 = np.random.choice([1, -1], size=1000)\n",
        "\n",
        "print(check_seperable(X1, y1))\n",
        "print(check_seperable(X2, y2))"
      ]
    },
    {
      "cell_type": "code",
      "execution_count": null,
      "metadata": {
        "id": "Qw9Wu45TzA1w"
      },
      "outputs": [],
      "source": [
        "def convergence(X, y, lr_vals, epoch_vals):\n",
        "    results = []\n",
        "    for lr in lr_vals:\n",
        "        for epochs in epoch_vals:\n",
        "            w, b, track = perceptron(X, y, lr, epochs)\n",
        "            preds = np.sign(np.dot(X, w) + b)\n",
        "            accuracy = np.mean(preds == y)\n",
        "            results.append((lr, epochs, accuracy))\n",
        "    return results"
      ]
    },
    {
      "cell_type": "code",
      "execution_count": null,
      "metadata": {
        "colab": {
          "base_uri": "https://localhost:8080/"
        },
        "id": "VNu2PNSazfOZ",
        "outputId": "d549cb8d-d8b0-4e15-e663-390a89ecbf88"
      },
      "outputs": [
        {
          "name": "stdout",
          "output_type": "stream",
          "text": [
            "LR: 0.01, epoch: 10, accuracy: 0.5400\n",
            "LR: 0.01, epoch: 20, accuracy: 0.5300\n",
            "LR: 0.01, epoch: 50, accuracy: 0.5400\n",
            "LR: 0.01, epoch: 100, accuracy: 0.5400\n",
            "LR: 0.2, epoch: 10, accuracy: 0.5400\n",
            "LR: 0.2, epoch: 20, accuracy: 0.5300\n",
            "LR: 0.2, epoch: 50, accuracy: 0.5400\n",
            "LR: 0.2, epoch: 100, accuracy: 0.5400\n",
            "LR: 0.7, epoch: 10, accuracy: 0.5400\n",
            "LR: 0.7, epoch: 20, accuracy: 0.5300\n",
            "LR: 0.7, epoch: 50, accuracy: 0.5400\n",
            "LR: 0.7, epoch: 100, accuracy: 0.5400\n",
            "LR: 1.0, epoch: 10, accuracy: 0.5400\n",
            "LR: 1.0, epoch: 20, accuracy: 0.5300\n",
            "LR: 1.0, epoch: 50, accuracy: 0.5400\n",
            "LR: 1.0, epoch: 100, accuracy: 0.5400\n"
          ]
        }
      ],
      "source": [
        "lr_vals = [0.01, 0.2, 0.7, 1.0]\n",
        "epoch_vals = [10, 20, 50, 100]\n",
        "results = convergence(X1, y1, lr_vals, epoch_vals)\n",
        "for result in results:\n",
        "    print(f\"LR: {result[0]}, epoch: {result[1]}, accuracy: {result[2]:.4f}\")"
      ]
    },
    {
      "cell_type": "code",
      "execution_count": null,
      "metadata": {
        "id": "0H9gSrn0z4ls"
      },
      "outputs": [],
      "source": []
    }
  ],
  "metadata": {
    "colab": {
      "provenance": []
    },
    "kernelspec": {
      "display_name": "Python 3",
      "name": "python3"
    },
    "language_info": {
      "name": "python"
    }
  },
  "nbformat": 4,
  "nbformat_minor": 0
}
