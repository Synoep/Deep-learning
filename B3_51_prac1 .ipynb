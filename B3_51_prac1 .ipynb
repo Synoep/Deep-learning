{
  "nbformat": 4,
  "nbformat_minor": 0,
  "metadata": {
    "colab": {
      "provenance": []
    },
    "kernelspec": {
      "name": "python3",
      "display_name": "Python 3"
    },
    "language_info": {
      "name": "python"
    }
  },
  "cells": [
    {
      "cell_type": "markdown",
      "source": [
        "#Name: Anshul Palarpwar\n",
        "##Batch: A2_27\n",
        "#Practical 1:\n",
        "##Implement a single-layer perceptron model in Python to classify binary inputs using a step activation function. Test its performance on a simple binary classification problem.\n",
        "##2: Utilize the single perceptron to simulate basic logic gates (AND, OR, NOT). Design the perceptron architecture to classify inputs based on predefined threshold values.\n",
        "##3: Extend the perceptron implementation to simulate complex logic gates (NAND, NOR, XOR, XNOR). Validate the outputs using different combinations of binary inputs."
      ],
      "metadata": {
        "id": "wgmRRHPfNv2E"
      }
    },
    {
      "cell_type": "code",
      "source": [
        "import numpy as np\n",
        "\n",
        "class Perceptron:\n",
        "    def __init__(self, weights, threshold):\n",
        "        self.weights = np.array(weights)\n",
        "        self.threshold = threshold\n",
        "\n",
        "    def activate(self, x):\n",
        "        return 1 if x >= self.threshold else 0\n",
        "\n",
        "    def predict(self, inputs):\n",
        "        summation = np.dot(inputs, self.weights)\n",
        "        return self.activate(summation)"
      ],
      "metadata": {
        "id": "6hyyKillM9We"
      },
      "execution_count": null,
      "outputs": []
    },
    {
      "cell_type": "code",
      "source": [
        "and_perceptron = Perceptron([1, 1], 2)  # AND gate\n",
        "or_perceptron = Perceptron([1, 1], 1)   # OR gate\n",
        "not_perceptron = Perceptron([-1], 0)   # NOT gate"
      ],
      "metadata": {
        "id": "1sz3AFBTND-k"
      },
      "execution_count": null,
      "outputs": []
    },
    {
      "cell_type": "code",
      "source": [
        "print(\"AND Gate:\")\n",
        "print(f\"0 AND 0 = {and_perceptron.predict([0,0])}\")\n",
        "print(f\"0 AND 1 = {and_perceptron.predict([0,1])}\")\n",
        "print(f\"1 AND 0 = {and_perceptron.predict([1,0])}\")\n",
        "print(f\"1 AND 1 = {and_perceptron.predict([1,1])}\")\n",
        "\n"
      ],
      "metadata": {
        "colab": {
          "base_uri": "https://localhost:8080/"
        },
        "id": "HFWPuZ0qNIE8",
        "outputId": "d3614bd0-eb53-4d8d-bbcb-70033aa63584"
      },
      "execution_count": null,
      "outputs": [
        {
          "output_type": "stream",
          "name": "stdout",
          "text": [
            "AND Gate:\n",
            "0 AND 0 = 0\n",
            "0 AND 1 = 0\n",
            "1 AND 0 = 0\n",
            "1 AND 1 = 1\n"
          ]
        }
      ]
    },
    {
      "cell_type": "code",
      "source": [
        "print(\"\\nOR Gate:\")\n",
        "print(f\"0 OR 0 = {or_perceptron.predict([0,0])}\")\n",
        "print(f\"0 OR 1 = {or_perceptron.predict([0,1])}\")\n",
        "print(f\"1 OR 0 = {or_perceptron.predict([1,0])}\")\n",
        "print(f\"1 OR 1 = {or_perceptron.predict([1,1])}\")\n",
        "\n"
      ],
      "metadata": {
        "colab": {
          "base_uri": "https://localhost:8080/"
        },
        "id": "x8H90V9uNPN0",
        "outputId": "5440961b-e9d1-4a4e-b24f-22c9f49d24bf"
      },
      "execution_count": null,
      "outputs": [
        {
          "output_type": "stream",
          "name": "stdout",
          "text": [
            "\n",
            "OR Gate:\n",
            "0 OR 0 = 0\n",
            "0 OR 1 = 1\n",
            "1 OR 0 = 1\n",
            "1 OR 1 = 1\n"
          ]
        }
      ]
    },
    {
      "cell_type": "code",
      "source": [
        "print(\"\\nNOT Gate:\")\n",
        "print(f\"NOT 0 = {not_perceptron.predict([0])}\")\n",
        "print(f\"NOT 1 = {not_perceptron.predict([1])}\")"
      ],
      "metadata": {
        "colab": {
          "base_uri": "https://localhost:8080/"
        },
        "id": "W2HZ7F6GNRLU",
        "outputId": "6b2b052a-b4f5-4450-cbf5-7f95e7f46737"
      },
      "execution_count": null,
      "outputs": [
        {
          "output_type": "stream",
          "name": "stdout",
          "text": [
            "\n",
            "NOT Gate:\n",
            "NOT 0 = 1\n",
            "NOT 1 = 0\n"
          ]
        }
      ]
    },
    {
      "cell_type": "code",
      "source": [
        "nand_perceptron = Perceptron([-1, -1], -1)  # NAND gate (NOT AND)\n",
        "nor_perceptron = Perceptron([-1,-1], 0) # NOR gate (NOT OR)"
      ],
      "metadata": {
        "id": "usNL71RNNRnz"
      },
      "execution_count": null,
      "outputs": []
    },
    {
      "cell_type": "code",
      "source": [
        "def xor_gate(x1,x2):\n",
        "    temp1 = and_perceptron.predict([not_perceptron.predict([x1]), x2])\n",
        "    temp2 = and_perceptron.predict([x1, not_perceptron.predict([x2])])\n",
        "    return or_perceptron.predict([temp1, temp2])"
      ],
      "metadata": {
        "id": "NHaNVU4vNXS0"
      },
      "execution_count": null,
      "outputs": []
    },
    {
      "cell_type": "code",
      "source": [
        "\n",
        "def xnor_gate(x1,x2):\n",
        "  return not_perceptron.predict([xor_gate(x1,x2)])"
      ],
      "metadata": {
        "id": "z2AeO1TwNcJj"
      },
      "execution_count": null,
      "outputs": []
    },
    {
      "cell_type": "code",
      "source": [
        "print(\"\\nNAND Gate:\")\n",
        "print(f\"0 NAND 0 = {nand_perceptron.predict([0,0])}\")\n",
        "print(f\"0 NAND 1 = {nand_perceptron.predict([0,1])}\")\n",
        "print(f\"1 NAND 0 = {nand_perceptron.predict([1,0])}\")\n",
        "print(f\"1 NAND 1 = {nand_perceptron.predict([1,1])}\")\n",
        "\n"
      ],
      "metadata": {
        "colab": {
          "base_uri": "https://localhost:8080/"
        },
        "id": "qSshJeH3Nfj8",
        "outputId": "e05bc3bb-33ba-41e6-9f2a-2aa737b70a61"
      },
      "execution_count": null,
      "outputs": [
        {
          "output_type": "stream",
          "name": "stdout",
          "text": [
            "\n",
            "NAND Gate:\n",
            "0 NAND 0 = 1\n",
            "0 NAND 1 = 1\n",
            "1 NAND 0 = 1\n",
            "1 NAND 1 = 0\n"
          ]
        }
      ]
    },
    {
      "cell_type": "code",
      "source": [
        "print(\"\\nNOR Gate:\")\n",
        "print(f\"0 NOR 0 = {nor_perceptron.predict([0,0])}\")\n",
        "print(f\"0 NOR 1 = {nor_perceptron.predict([0,1])}\")\n",
        "print(f\"1 NOR 0 = {nor_perceptron.predict([1,0])}\")\n",
        "print(f\"1 NOR 1 = {nor_perceptron.predict([1,1])}\")\n",
        "\n",
        "\n"
      ],
      "metadata": {
        "colab": {
          "base_uri": "https://localhost:8080/"
        },
        "id": "MeNUKVlYNpGb",
        "outputId": "788e802d-fff9-4b13-fcf7-45456221c0b7"
      },
      "execution_count": null,
      "outputs": [
        {
          "output_type": "stream",
          "name": "stdout",
          "text": [
            "\n",
            "NOR Gate:\n",
            "0 NOR 0 = 1\n",
            "0 NOR 1 = 0\n",
            "1 NOR 0 = 0\n",
            "1 NOR 1 = 0\n"
          ]
        }
      ]
    },
    {
      "cell_type": "code",
      "source": [
        "print(\"\\nXOR Gate:\")\n",
        "print(f\"0 XOR 0 = {xor_gate(0,0)}\")\n",
        "print(f\"0 XOR 1 = {xor_gate(0,1)}\")\n",
        "print(f\"1 XOR 0 = {xor_gate(1,0)}\")\n",
        "print(f\"1 XOR 1 = {xor_gate(1,1)}\")\n",
        "\n"
      ],
      "metadata": {
        "colab": {
          "base_uri": "https://localhost:8080/"
        },
        "id": "YykXTG-vNq1U",
        "outputId": "a35fdff5-e7d8-436f-b5ee-641efa84f336"
      },
      "execution_count": null,
      "outputs": [
        {
          "output_type": "stream",
          "name": "stdout",
          "text": [
            "\n",
            "XOR Gate:\n",
            "0 XOR 0 = 0\n",
            "0 XOR 1 = 1\n",
            "1 XOR 0 = 1\n",
            "1 XOR 1 = 0\n"
          ]
        }
      ]
    },
    {
      "cell_type": "code",
      "source": [
        "print(\"\\nXNOR Gate:\")\n",
        "print(f\"0 XNOR 0 = {xnor_gate(0,0)}\")\n",
        "print(f\"0 XNOR 1 = {xnor_gate(0,1)}\")\n",
        "print(f\"1 XNOR 0 = {xnor_gate(1,0)}\")\n",
        "print(f\"1 XNOR 1 = {xnor_gate(1,1)}\")"
      ],
      "metadata": {
        "colab": {
          "base_uri": "https://localhost:8080/"
        },
        "id": "0dsSrgWdNrbj",
        "outputId": "105681e1-d877-4e26-bb7b-eacd33f4223d"
      },
      "execution_count": null,
      "outputs": [
        {
          "output_type": "stream",
          "name": "stdout",
          "text": [
            "\n",
            "XNOR Gate:\n",
            "0 XNOR 0 = 1\n",
            "0 XNOR 1 = 0\n",
            "1 XNOR 0 = 0\n",
            "1 XNOR 1 = 1\n"
          ]
        }
      ]
    },
    {
      "cell_type": "code",
      "source": [],
      "metadata": {
        "id": "vJ9wKKAcNuZ7"
      },
      "execution_count": null,
      "outputs": []
    }
  ]
}